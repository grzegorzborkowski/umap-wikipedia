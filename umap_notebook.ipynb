{
 "cells": [
  {
   "cell_type": "code",
   "execution_count": 225,
   "metadata": {
    "collapsed": true
   },
   "outputs": [],
   "source": [
    "import umap\n",
    "import numpy\n",
    "import scipy as sp\n",
    "import networkx as nx\n",
    "from node2vec import Node2Vec\n",
    "from pprint import pprint as pprint\n",
    "import tqdm\n",
    "import matplotlib.pyplot as plt\n",
    "from ipywidgets import interact, interactive, fixed, interact_manual\n",
    "import seaborn\n",
    "import mplcursors\n",
    "import pickle\n",
    "import os\n",
    "%matplotlib nbagg"
   ]
  },
  {
   "cell_type": "code",
   "execution_count": 204,
   "metadata": {
    "collapsed": true
   },
   "outputs": [],
   "source": [
    "G = nx.Graph()\n",
    "\n",
    "with open('graph.desc', 'r') as fh:\n",
    "    for line_number, line in enumerate(fh):\n",
    "        if line_number>=2:\n",
    "            article_name = line.split(\"\\t\")[1][1:][:-2]\n",
    "            line_number = int(line.split(\"\\t\")[0])\n",
    "            G.add_node(line_number, article_name=article_name)\n",
    "            \n",
    "# for i in range(0, len(G.nodes)):\n",
    "#     print(G.nodes[i])"
   ]
  },
  {
   "cell_type": "code",
   "execution_count": 205,
   "metadata": {
    "collapsed": true
   },
   "outputs": [],
   "source": [
    "with open('graph.graph', 'r') as fh:\n",
    "    for line_number, edge in enumerate(fh):\n",
    "        src = (edge.split(\"\\t\")[0]).split(\" \")[0].rstrip()\n",
    "        dest = (edge.split(\"\\t\")[0]).split(\" \")[1].rstrip()\n",
    "        G.add_edge(src,dest)\n",
    "        # print(src, '->', dest)"
   ]
  },
  {
   "cell_type": "code",
   "execution_count": 206,
   "metadata": {},
   "outputs": [
    {
     "data": {
      "text/plain": [
       "'Miss North Carolina USA'"
      ]
     },
     "execution_count": 206,
     "metadata": {},
     "output_type": "execute_result"
    }
   ],
   "source": [
    "article_name = nx.get_node_attributes(G, name='article_name')\n",
    "article_name[98150]"
   ]
  },
  {
   "cell_type": "code",
   "execution_count": 207,
   "metadata": {},
   "outputs": [
    {
     "name": "stdout",
     "output_type": "stream",
     "text": [
      "('Name: \\n'\n",
      " 'Type: Graph\\n'\n",
      " 'Number of nodes: 459513\\n'\n",
      " 'Number of edges: 678216\\n'\n",
      " 'Average degree:   2.9519')\n"
     ]
    }
   ],
   "source": [
    "pprint(nx.info(G))"
   ]
  },
  {
   "cell_type": "code",
   "execution_count": 224,
   "metadata": {},
   "outputs": [],
   "source": [
    "min_degree = 20\n",
    "\n",
    "nodes = [node for node, degree in G.degree() if degree<10]"
   ]
  },
  {
   "cell_type": "code",
   "execution_count": 221,
   "metadata": {},
   "outputs": [],
   "source": [
    "G.remove_nodes_from(nodes)"
   ]
  },
  {
   "cell_type": "code",
   "execution_count": 222,
   "metadata": {},
   "outputs": [
    {
     "data": {
      "text/plain": [
       "<networkx.classes.graph.Graph at 0x7fa446cdb780>"
      ]
     },
     "execution_count": 222,
     "metadata": {},
     "output_type": "execute_result"
    }
   ],
   "source": [
    "G"
   ]
  },
  {
   "cell_type": "code",
   "execution_count": 223,
   "metadata": {},
   "outputs": [
    {
     "data": {
      "text/plain": [
       "'Miss North Carolina USA'"
      ]
     },
     "execution_count": 223,
     "metadata": {},
     "output_type": "execute_result"
    }
   ],
   "source": [
    "article_name = nx.get_node_attributes(G, name='article_name')\n",
    "article_name[98150]"
   ]
  },
  {
   "cell_type": "code",
   "execution_count": 176,
   "metadata": {},
   "outputs": [
    {
     "data": {
      "text/plain": [
       "['98150',\n",
       " '84681',\n",
       " '247142',\n",
       " '84680',\n",
       " '98160',\n",
       " '98159',\n",
       " '98153',\n",
       " '84740',\n",
       " '255903',\n",
       " '58593']"
      ]
     },
     "execution_count": 176,
     "metadata": {},
     "output_type": "execute_result"
    }
   ],
   "source": [
    "list(G.nodes)[:10]"
   ]
  },
  {
   "cell_type": "code",
   "execution_count": 177,
   "metadata": {},
   "outputs": [
    {
     "name": "stdout",
     "output_type": "stream",
     "text": [
      "('Name: \\n'\n",
      " 'Type: DiGraph\\n'\n",
      " 'Number of nodes: 74\\n'\n",
      " 'Number of edges: 2691\\n'\n",
      " 'Average in degree:  36.3649\\n'\n",
      " 'Average out degree:  36.3649')\n"
     ]
    }
   ],
   "source": [
    "pprint(nx.info(G))"
   ]
  },
  {
   "cell_type": "code",
   "execution_count": 226,
   "metadata": {},
   "outputs": [],
   "source": [
    "nodes_count = len(G.nodes)\n",
    "\n",
    "# Precompute probabilities and generate walks\n",
    "files = os.listdir(\".\")\n",
    "if \"node2vec.pickle\" in files:\n",
    "    with open(\"node2vec.pickle\", \"rb\") as file:\n",
    "        node2vec = pickle.load(file)\n",
    "else:\n",
    "    node2vec = Node2Vec(G, dimensions=100, walk_length=50, num_walks=500, p=1, q=1, weight_key='weight',\n",
    "                 workers=8, sampling_strategy=None)"
   ]
  },
  {
   "cell_type": "code",
   "execution_count": 227,
   "metadata": {
    "collapsed": true
   },
   "outputs": [],
   "source": [
    "files = os.listdir(\".\")\n",
    "if \"node2vec.pickle\" not in files:\n",
    "    with open(\"node2vec.pickle\", \"wb\") as file:\n",
    "        pickle.dump(node2vec, file)"
   ]
  },
  {
   "cell_type": "code",
   "execution_count": 8,
   "metadata": {},
   "outputs": [
    {
     "data": {
      "text/plain": [
       "[('251890', 302),\n",
       " ('251899', 260),\n",
       " ('36497', 223),\n",
       " ('122206', 206),\n",
       " ('128596', 185),\n",
       " ('228840', 179),\n",
       " ('68725', 176),\n",
       " ('53144', 163),\n",
       " ('55120', 159),\n",
       " ('79025', 158)]"
      ]
     },
     "execution_count": 8,
     "metadata": {},
     "output_type": "execute_result"
    }
   ],
   "source": [
    "sorted(G.degree, key=lambda x: x[1], reverse=True)[:10]"
   ]
  },
  {
   "cell_type": "code",
   "execution_count": 229,
   "metadata": {},
   "outputs": [],
   "source": [
    "info = nx.info(G)"
   ]
  },
  {
   "cell_type": "code",
   "execution_count": 228,
   "metadata": {},
   "outputs": [
    {
     "name": "stdout",
     "output_type": "stream",
     "text": [
      "('Name: \\n'\n",
      " 'Type: DiGraph\\n'\n",
      " 'Number of nodes: 74\\n'\n",
      " 'Number of edges: 2691\\n'\n",
      " 'Average in degree:  36.3649\\n'\n",
      " 'Average out degree:  36.3649')\n"
     ]
    }
   ],
   "source": [
    "pprint(info)"
   ]
  },
  {
   "cell_type": "code",
   "execution_count": 9,
   "metadata": {},
   "outputs": [
    {
     "name": "stdout",
     "output_type": "stream",
     "text": [
      "[['95194', '103030', '2153', '172172', '127596']]\n"
     ]
    }
   ],
   "source": [
    "print(node2vec.walks[:1])"
   ]
  },
  {
   "cell_type": "code",
   "execution_count": null,
   "metadata": {
    "collapsed": true
   },
   "outputs": [],
   "source": []
  },
  {
   "cell_type": "code",
   "execution_count": 10,
   "metadata": {},
   "outputs": [
    {
     "ename": "NameError",
     "evalue": "name 'model' is not defined",
     "output_type": "error",
     "traceback": [
      "\u001b[0;31m---------------------------------------------------------------------------\u001b[0m",
      "\u001b[0;31mNameError\u001b[0m                                 Traceback (most recent call last)",
      "\u001b[0;32m<ipython-input-10-0d3afcec5ab1>\u001b[0m in \u001b[0;36m<module>\u001b[0;34m()\u001b[0m\n\u001b[1;32m      1\u001b[0m \u001b[0;31m# Embed\u001b[0m\u001b[0;34m\u001b[0m\u001b[0;34m\u001b[0m\u001b[0m\n\u001b[1;32m      2\u001b[0m \u001b[0;31m# model = node2vec.fit(window=10, min_count=1, batch_words=8)  # Any keywords acceptable by gensim.Word2Vec can be passed, `diemnsions` and `workers` are automatically passed (from the Node2Vec constructor)\u001b[0m\u001b[0;34m\u001b[0m\u001b[0;34m\u001b[0m\u001b[0m\n\u001b[0;32m----> 3\u001b[0;31m \u001b[0mprint\u001b[0m\u001b[0;34m(\u001b[0m\u001b[0mmodel\u001b[0m\u001b[0;34m)\u001b[0m\u001b[0;34m\u001b[0m\u001b[0m\n\u001b[0m",
      "\u001b[0;31mNameError\u001b[0m: name 'model' is not defined"
     ]
    }
   ],
   "source": [
    "# Embed\n",
    "# model = node2vec.fit(window=10, min_count=1, batch_words=8)  # Any keywords acceptable by gensim.Word2Vec can be passed, `diemnsions` and `workers` are automatically passed (from the Node2Vec constructor)\n",
    "# print(model)"
   ]
  },
  {
   "cell_type": "code",
   "execution_count": null,
   "metadata": {},
   "outputs": [],
   "source": [
    "# Look for most similar nodes\n",
    "# print (nx.get_node_attributes(G, \"Horseland\"))\n",
    "\n",
    "# `model.wv.most_similar('55120')  # Output node names are always strings"
   ]
  },
  {
   "cell_type": "code",
   "execution_count": null,
   "metadata": {},
   "outputs": [],
   "source": [
    "# '62737' in G"
   ]
  },
  {
   "cell_type": "code",
   "execution_count": null,
   "metadata": {
    "collapsed": true
   },
   "outputs": [],
   "source": []
  },
  {
   "cell_type": "code",
   "execution_count": null,
   "metadata": {},
   "outputs": [],
   "source": [
    "# node_vectors = model.wv\n",
    "# print(node_vectors)"
   ]
  },
  {
   "cell_type": "code",
   "execution_count": 12,
   "metadata": {},
   "outputs": [],
   "source": [
    "# vector_1 = node_vectors['24982']\n",
    "# print(vector_1)"
   ]
  },
  {
   "cell_type": "code",
   "execution_count": null,
   "metadata": {
    "collapsed": true
   },
   "outputs": [],
   "source": [
    "# Save embeddings for later use\n",
    "\n",
    "# node_vectors.save_word2vec_format(\"art-embedding.txt\")"
   ]
  },
  {
   "cell_type": "code",
   "execution_count": 13,
   "metadata": {
    "collapsed": true
   },
   "outputs": [],
   "source": [
    "# Load embeddings\n",
    "\n",
    "from gensim.models import KeyedVectors\n",
    "node_vectors_loaded = KeyedVectors.load_word2vec_format(\"art-embedding.txt\")"
   ]
  },
  {
   "cell_type": "code",
   "execution_count": 14,
   "metadata": {},
   "outputs": [
    {
     "name": "stdout",
     "output_type": "stream",
     "text": [
      "<gensim.models.keyedvectors.Word2VecKeyedVectors object at 0x7fa332c0f908>\n"
     ]
    }
   ],
   "source": [
    "print(node_vectors_loaded)"
   ]
  },
  {
   "cell_type": "code",
   "execution_count": 15,
   "metadata": {},
   "outputs": [
    {
     "name": "stdout",
     "output_type": "stream",
     "text": [
      "[ 4.959533   -2.3268273   0.18315113  1.1552151   3.0224924   1.0589527\n",
      "  4.743352    7.194843    2.9952397  -4.7171206   0.09639875 -0.7766946\n",
      "  1.4803749  -1.0916555   2.800883    2.464419   -3.899199    1.5888991\n",
      "  1.377338   -1.1342841  -2.161191   -2.470918    0.25017437 -1.0007008\n",
      "  1.5122728   1.3395745   8.505853   -0.56901866  1.3274035  -0.894552\n",
      " -2.6800663   5.7218676  -0.9345196   6.6233363  -2.3210645  -4.57687\n",
      " -1.2607498   5.0943303   2.0499954  -2.8422897  -3.1462235  -3.7176344\n",
      "  0.9031875   1.9377841   2.5322757   0.39060575  3.3257515   1.0247849\n",
      " -0.11368857  7.8986616   5.6876006   1.3767242   7.2931066   0.6669249\n",
      "  0.3028057  -5.636051   -1.9404404   2.6201584  -0.30218518  2.9206507\n",
      " -6.0342116   2.5051877  -3.0368474  -0.42255583  5.8723335  -0.73429054\n",
      "  3.5434659   0.9749992   0.4697444   1.9308053  -3.0719614  -1.4419872\n",
      "  2.0043864   0.1048908   5.3106112   1.0021913   4.359062   -0.10945073\n",
      " -3.5079207  -4.4435744  -0.6959874  -2.912175   -1.2804127   6.995407\n",
      "  1.6547188   2.9620147  -9.404229    0.9383785   1.1796114   0.1345392\n",
      " -2.758585   -0.45130363  2.47707     1.0902774   3.0662997  -0.49697745\n",
      " -2.0383732   6.7516713   0.49384844 -4.240159  ]\n"
     ]
    }
   ],
   "source": [
    "vector_2 = node_vectors_loaded['62737']\n",
    "print(vector_2)"
   ]
  },
  {
   "cell_type": "code",
   "execution_count": 16,
   "metadata": {},
   "outputs": [
    {
     "data": {
      "text/plain": [
       "[('62740', 0.7136077284812927),\n",
       " ('49511', 0.635190486907959),\n",
       " ('55120', 0.627719521522522),\n",
       " ('121900', 0.5948958992958069),\n",
       " ('63512', 0.5508878231048584),\n",
       " ('41527', 0.531460702419281),\n",
       " ('49776', 0.5131902694702148),\n",
       " ('99871', 0.49755409359931946),\n",
       " ('167381', 0.45181402564048767),\n",
       " ('76323', 0.443172812461853)]"
      ]
     },
     "execution_count": 16,
     "metadata": {},
     "output_type": "execute_result"
    }
   ],
   "source": [
    "node_vectors_loaded.most_similar('62737') "
   ]
  },
  {
   "cell_type": "code",
   "execution_count": 17,
   "metadata": {},
   "outputs": [
    {
     "data": {
      "text/plain": [
       "True"
      ]
     },
     "execution_count": 17,
     "metadata": {},
     "output_type": "execute_result"
    }
   ],
   "source": [
    "'259546' in G"
   ]
  },
  {
   "cell_type": "code",
   "execution_count": 150,
   "metadata": {},
   "outputs": [
    {
     "data": {
      "text/plain": [
       "{}"
      ]
     },
     "execution_count": 150,
     "metadata": {},
     "output_type": "execute_result"
    }
   ],
   "source": [
    "G.['259546']"
   ]
  },
  {
   "cell_type": "code",
   "execution_count": 36,
   "metadata": {},
   "outputs": [],
   "source": [
    "wv = node_vectors_loaded.vectors"
   ]
  },
  {
   "cell_type": "code",
   "execution_count": 149,
   "metadata": {},
   "outputs": [
    {
     "ename": "IndexError",
     "evalue": "only integers, slices (`:`), ellipsis (`...`), numpy.newaxis (`None`) and integer or boolean arrays are valid indices",
     "output_type": "error",
     "traceback": [
      "\u001b[0;31m---------------------------------------------------------------------------\u001b[0m",
      "\u001b[0;31mIndexError\u001b[0m                                Traceback (most recent call last)",
      "\u001b[0;32m<ipython-input-149-68ff6ff660c4>\u001b[0m in \u001b[0;36m<module>\u001b[0;34m()\u001b[0m\n\u001b[0;32m----> 1\u001b[0;31m \u001b[0mwv\u001b[0m\u001b[0;34m[\u001b[0m\u001b[0;34m'259546'\u001b[0m\u001b[0;34m]\u001b[0m\u001b[0;34m\u001b[0m\u001b[0m\n\u001b[0m",
      "\u001b[0;31mIndexError\u001b[0m: only integers, slices (`:`), ellipsis (`...`), numpy.newaxis (`None`) and integer or boolean arrays are valid indices"
     ]
    }
   ],
   "source": [
    "wv['259546']"
   ]
  },
  {
   "cell_type": "code",
   "execution_count": 37,
   "metadata": {},
   "outputs": [
    {
     "data": {
      "text/plain": [
       "array([[ 3.6197844e+00, -7.5986654e-01,  1.8922734e-03, ...,\n",
       "        -2.2677345e+00,  3.8258708e+00, -5.2734470e+00],\n",
       "       [ 4.9357586e+00,  5.2146754e+00, -4.0642247e+00, ...,\n",
       "         1.7099025e+00,  3.5746083e-01, -9.6576869e-01],\n",
       "       [ 4.1155868e+00,  4.5553970e+00, -3.3378363e+00, ...,\n",
       "        -1.4086393e+00,  3.8253367e+00,  1.7497599e+00],\n",
       "       ...,\n",
       "       [-2.7919083e-03,  2.5150273e-03,  9.0601179e-04, ...,\n",
       "         3.1671536e-03, -4.4957711e-03,  2.7519325e-03],\n",
       "       [ 3.0416774e-03, -1.7812793e-03, -4.3925853e-03, ...,\n",
       "         3.3383067e-03,  1.7243387e-03,  8.0142339e-04],\n",
       "       [-4.2852694e-03,  9.5062121e-04, -4.7688065e-03, ...,\n",
       "         4.7394396e-03, -2.4268874e-03,  4.5376639e-03]], dtype=float32)"
      ]
     },
     "execution_count": 37,
     "metadata": {},
     "output_type": "execute_result"
    }
   ],
   "source": [
    "wv"
   ]
  },
  {
   "cell_type": "code",
   "execution_count": 32,
   "metadata": {},
   "outputs": [
    {
     "name": "stdout",
     "output_type": "stream",
     "text": [
      "'<gensim.models.keyedvectors.Word2VecKeyedVectors object at 0x7fa332c0f908>'\n"
     ]
    },
    {
     "name": "stderr",
     "output_type": "stream",
     "text": [
      "/home/grzegorz/anaconda2/envs/py3/lib/python3.6/site-packages/ipykernel_launcher.py:1: DeprecationWarning: Call to deprecated `wv` (Attribute will be removed in 4.0.0, use self instead).\n",
      "  \"\"\"Entry point for launching an IPython kernel.\n"
     ]
    }
   ],
   "source": [
    "# pprint(str(node_vectors_loaded.wv))"
   ]
  },
  {
   "cell_type": "code",
   "execution_count": 146,
   "metadata": {},
   "outputs": [],
   "source": [
    "def interactive_umap(n_neighbors, min_dist, n_components):\n",
    "    umap_obj = umap.UMAP(n_neighbors=n_neighbors, min_dist=min_dist, n_components=n_components)\n",
    "    transformed = umap_obj.fit_transform(wv)\n",
    "    plt.figure(figsize=(7.5,7.5))\n",
    "    seaborn.regplot(x=transformed[:, 0], y=transformed[:, 1], fit_reg=False)    \n",
    "\n",
    "    plt.show()"
   ]
  },
  {
   "cell_type": "code",
   "execution_count": 148,
   "metadata": {},
   "outputs": [
    {
     "data": {
      "application/vnd.jupyter.widget-view+json": {
       "model_id": "ae389fd557854b4b88ed5611f7cfeaed"
      }
     },
     "metadata": {},
     "output_type": "display_data"
    }
   ],
   "source": [
    "interactive(interactive_umap, n_neighbors=5, min_dist=0.1, n_components=3)"
   ]
  }
 ],
 "metadata": {
  "kernelspec": {
   "display_name": "Python 3",
   "language": "python",
   "name": "python3"
  },
  "language_info": {
   "codemirror_mode": {
    "name": "ipython",
    "version": 3
   },
   "file_extension": ".py",
   "mimetype": "text/x-python",
   "name": "python",
   "nbconvert_exporter": "python",
   "pygments_lexer": "ipython3",
   "version": "3.6.3"
  }
 },
 "nbformat": 4,
 "nbformat_minor": 2
}
