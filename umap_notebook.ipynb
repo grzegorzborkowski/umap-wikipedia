{
 "cells": [
  {
   "cell_type": "code",
   "execution_count": 16,
   "metadata": {},
   "outputs": [],
   "source": [
    "import umap\n",
    "import numpy\n",
    "import scipy as sp\n",
    "import networkx as nx\n",
    "from node2vec import Node2Vec\n",
    "from pprint import pprint as pprint\n",
    "import tqdm\n",
    "import matplotlib.pyplot as plt\n",
    "from ipywidgets import interact, interactive, fixed, interact_manual\n",
    "import seaborn\n",
    "import mplcursors\n",
    "import pickle\n",
    "import os\n",
    "%matplotlib nbagg"
   ]
  },
  {
   "cell_type": "code",
   "execution_count": 46,
   "metadata": {},
   "outputs": [],
   "source": [
    "G = nx.DiGraph()\n",
    "\n",
    "with open('graph.desc', 'r') as fh:\n",
    "    for line_number, line in enumerate(fh):\n",
    "        if line_number>=2:\n",
    "            article_name = line.split(\"\\t\")[1][1:][:-2]\n",
    "            line_number = int(line.split(\"\\t\")[0])\n",
    "            G.add_node(line_number, article_name=article_name)\n",
    "            \n",
    "# for i in range(0, len(G.nodes)):\n",
    "#     print(G.nodes[i])"
   ]
  },
  {
   "cell_type": "code",
   "execution_count": 47,
   "metadata": {},
   "outputs": [],
   "source": [
    "with open('graph.graph', 'r') as fh:\n",
    "    for line_number, edge in enumerate(fh):\n",
    "        src = (edge.split(\"\\t\")[0]).split(\" \")[0].rstrip()\n",
    "        dest = (edge.split(\"\\t\")[0]).split(\" \")[1].rstrip()\n",
    "        G.add_edge(src,dest)\n",
    "        # print(src, '->', dest)"
   ]
  },
  {
   "cell_type": "code",
   "execution_count": 48,
   "metadata": {},
   "outputs": [
    {
     "data": {
      "text/plain": [
       "'Soul music'"
      ]
     },
     "execution_count": 48,
     "metadata": {},
     "output_type": "execute_result"
    }
   ],
   "source": [
    "article_name = nx.get_node_attributes(G, name='article_name')\n",
    "article_name[251890]"
   ]
  },
  {
   "cell_type": "code",
   "execution_count": 49,
   "metadata": {},
   "outputs": [
    {
     "name": "stdout",
     "output_type": "stream",
     "text": [
      "('Name: \\n'\n",
      " 'Type: DiGraph\\n'\n",
      " 'Number of nodes: 459513\\n'\n",
      " 'Number of edges: 827118\\n'\n",
      " 'Average in degree:   1.8000\\n'\n",
      " 'Average out degree:   1.8000')\n"
     ]
    }
   ],
   "source": [
    "pprint(nx.info(G))"
   ]
  },
  {
   "cell_type": "code",
   "execution_count": 66,
   "metadata": {},
   "outputs": [],
   "source": [
    "min_degree = 10\n",
    "\n",
    "nodes = [node for node, degree in G.degree() if degree >= min_degree]"
   ]
  },
  {
   "cell_type": "code",
   "execution_count": 67,
   "metadata": {},
   "outputs": [
    {
     "data": {
      "text/plain": [
       "[(0, {'article_name': 'As Crazy as It Gets'}),\n",
       " (1, {'article_name': 'Road to Yesterday (film)'}),\n",
       " (2, {'article_name': 'UK Blak'}),\n",
       " (3, {'article_name': 'Beach of the War Goddess'}),\n",
       " (4, {'article_name': 'Good Vibrations'}),\n",
       " (5, {'article_name': 'Cool Jerk'}),\n",
       " (6, {'article_name': 'Can We Still Be Friends'}),\n",
       " (7, {'article_name': 'I Saw the Light (Todd Rundgren song)'}),\n",
       " (8, {'article_name': 'La-La (Means I Love You)'}),\n",
       " (9, {'article_name': 'Bang the Drum All Day'})]"
      ]
     },
     "execution_count": 67,
     "metadata": {},
     "output_type": "execute_result"
    }
   ],
   "source": [
    "list(G.nodes(data=True))[:10]"
   ]
  },
  {
   "cell_type": "code",
   "execution_count": 68,
   "metadata": {},
   "outputs": [],
   "source": [
    "subgraph_G = G.subgraph(nodes)"
   ]
  },
  {
   "cell_type": "code",
   "execution_count": 69,
   "metadata": {},
   "outputs": [
    {
     "data": {
      "text/plain": [
       "[('67987', {}),\n",
       " ('259394', {}),\n",
       " ('131794', {}),\n",
       " ('207393', {}),\n",
       " ('21338', {}),\n",
       " ('133784', {}),\n",
       " ('11952', {}),\n",
       " ('37214', {}),\n",
       " ('12755', {}),\n",
       " ('156467', {})]"
      ]
     },
     "execution_count": 69,
     "metadata": {},
     "output_type": "execute_result"
    }
   ],
   "source": [
    "list(subgraph_G.nodes(data=True))[:10]"
   ]
  },
  {
   "cell_type": "code",
   "execution_count": 70,
   "metadata": {},
   "outputs": [
    {
     "name": "stdout",
     "output_type": "stream",
     "text": [
      "('Name: \\n'\n",
      " 'Type: SubDiGraph\\n'\n",
      " 'Number of nodes: 44612\\n'\n",
      " 'Number of edges: 386418\\n'\n",
      " 'Average in degree:   8.6618\\n'\n",
      " 'Average out degree:   8.6618')\n"
     ]
    }
   ],
   "source": [
    "pprint(nx.info(subgraph_G))"
   ]
  },
  {
   "cell_type": "code",
   "execution_count": 71,
   "metadata": {},
   "outputs": [
    {
     "data": {
      "text/plain": [
       "'Soul music'"
      ]
     },
     "execution_count": 71,
     "metadata": {},
     "output_type": "execute_result"
    }
   ],
   "source": [
    "article_name = nx.get_node_attributes(G, name='article_name')\n",
    "article_name[251890]"
   ]
  },
  {
   "cell_type": "code",
   "execution_count": 104,
   "metadata": {},
   "outputs": [
    {
     "name": "stdout",
     "output_type": "stream",
     "text": [
      "10\n"
     ]
    }
   ],
   "source": [
    "print(subgraph_G.degree(\"67987\"))"
   ]
  },
  {
   "cell_type": "code",
   "execution_count": 107,
   "metadata": {},
   "outputs": [],
   "source": [
    "# Count betweenness\n",
    "\n",
    "subgraph_G_betweenness = nx.betweenness_centrality(subgraph_G, k=10000)"
   ]
  },
  {
   "cell_type": "code",
   "execution_count": 108,
   "metadata": {},
   "outputs": [
    {
     "name": "stdout",
     "output_type": "stream",
     "text": [
      "{'67987': 6.867663752067565e-05, '259394': 6.842818969238338e-06, '131794': 0.0, '207393': 3.9938960771694634e-05, '21338': 0.0, '133784': 0.0, '11952': 2.267116049505658e-06, '37214': 0.0, '12755': 5.515209907430383e-07, '156467': 2.5614800632086612e-06}\n"
     ]
    }
   ],
   "source": [
    "print({k: subgraph_G_betweenness[k] for k in list(subgraph_G_betweenness)[:10]})"
   ]
  },
  {
   "cell_type": "code",
   "execution_count": 110,
   "metadata": {},
   "outputs": [],
   "source": [
    "files = os.listdir(\".\")\n",
    "with open(\"graph-betweenness-10000.desc\", \"w\") as file:\n",
    "    for node in subgraph_G_betweenness:\n",
    "        file.write(str(node) + ' ' + str(subgraph_G_betweenness[node]) + ' \"'+article_name[int(node)]+'\"\\n')"
   ]
  },
  {
   "cell_type": "code",
   "execution_count": null,
   "metadata": {},
   "outputs": [],
   "source": [
    "# Node2Vec"
   ]
  },
  {
   "cell_type": "code",
   "execution_count": null,
   "metadata": {},
   "outputs": [
    {
     "name": "stderr",
     "output_type": "stream",
     "text": [
      "Computing transition probabilities:   3%|▎         | 1135/33733 [00:09<04:46, 113.97it/s]/Users/anna/anaconda3/lib/python3.6/site-packages/tqdm/_monitor.py:89: TqdmSynchronisationWarning: Set changed size during iteration (see https://github.com/tqdm/tqdm/issues/481)\n",
      "  TqdmSynchronisationWarning)\n",
      "Computing transition probabilities: 100%|██████████| 33733/33733 [04:40<00:00, 120.30it/s]\n",
      "Generating walks (CPU: 2):   3%|▎         | 2/63 [04:21<2:12:56, 130.76s/it]"
     ]
    }
   ],
   "source": [
    "nodes_count = len(subgraph_G.nodes)\n",
    "\n",
    "# Precompute probabilities and generate walks\n",
    "files = os.listdir(\".\")\n",
    "if \"node2vec.pickle\" in files:\n",
    "    with open(\"node2vec.pickle\", \"rb\") as file:\n",
    "        node2vec = pickle.load(file)\n",
    "else:\n",
    "    node2vec = Node2Vec(subgraph_G, dimensions=100, walk_length=50, num_walks=500, p=1, q=1, weight_key='weight',\n",
    "                 workers=8, sampling_strategy=None)"
   ]
  },
  {
   "cell_type": "code",
   "execution_count": null,
   "metadata": {},
   "outputs": [],
   "source": [
    "files = os.listdir(\".\")\n",
    "if \"node2vec.pickle\" not in files:\n",
    "    with open(\"node2vec.pickle\", \"wb\") as file:\n",
    "        pickle.dump(node2vec, file)"
   ]
  },
  {
   "cell_type": "code",
   "execution_count": null,
   "metadata": {},
   "outputs": [],
   "source": [
    "sorted(subgraph_G.degree, key=lambda x: x[1], reverse=True)[:10]"
   ]
  },
  {
   "cell_type": "code",
   "execution_count": null,
   "metadata": {
    "collapsed": true
   },
   "outputs": [],
   "source": [
    "# Embed\n",
    "# model = node2vec.fit(window=10, min_count=1, batch_words=8)  # Any keywords acceptable by gensim.Word2Vec can be passed, `diemnsions` and `workers` are automatically passed (from the Node2Vec constructor)\n",
    "# print(model)"
   ]
  },
  {
   "cell_type": "code",
   "execution_count": null,
   "metadata": {
    "collapsed": true
   },
   "outputs": [],
   "source": [
    "# Look for most similar nodes\n",
    "# print (nx.get_node_attributes(G, \"Horseland\"))\n",
    "\n",
    "# `model.wv.most_similar('55120')  # Output node names are always strings"
   ]
  },
  {
   "cell_type": "code",
   "execution_count": null,
   "metadata": {
    "collapsed": true
   },
   "outputs": [],
   "source": [
    "# '62737' in G"
   ]
  },
  {
   "cell_type": "code",
   "execution_count": null,
   "metadata": {
    "collapsed": true
   },
   "outputs": [],
   "source": []
  },
  {
   "cell_type": "code",
   "execution_count": null,
   "metadata": {
    "collapsed": true
   },
   "outputs": [],
   "source": [
    "# node_vectors = model.wv\n",
    "# print(node_vectors)"
   ]
  },
  {
   "cell_type": "code",
   "execution_count": null,
   "metadata": {
    "collapsed": true
   },
   "outputs": [],
   "source": [
    "# vector_1 = node_vectors['24982']\n",
    "# print(vector_1)"
   ]
  },
  {
   "cell_type": "code",
   "execution_count": null,
   "metadata": {
    "collapsed": true
   },
   "outputs": [],
   "source": [
    "# Save embeddings for later use\n",
    "\n",
    "# node_vectors.save_word2vec_format(\"art-embedding.txt\")"
   ]
  },
  {
   "cell_type": "code",
   "execution_count": 23,
   "metadata": {},
   "outputs": [],
   "source": [
    "# Load embeddings\n",
    "\n",
    "from gensim.models import KeyedVectors\n",
    "node_vectors_loaded = KeyedVectors.load_word2vec_format(\"art-embedding.txt\")\n",
    "wv = node_vectors_loaded.vectors"
   ]
  },
  {
   "cell_type": "code",
   "execution_count": 24,
   "metadata": {
    "collapsed": true
   },
   "outputs": [],
   "source": [
    "def interactive_umap(n_neighbors, min_dist, n_components):\n",
    "    umap_obj = umap.UMAP(n_neighbors=n_neighbors, min_dist=min_dist, n_components=n_components)\n",
    "    transformed = umap_obj.fit_transform(wv)\n",
    "    plt.figure(figsize=(7.5,7.5))\n",
    "    seaborn.regplot(x=transformed[:, 0], y=transformed[:, 1], fit_reg=False)    \n",
    "    \n",
    "    plt.show()"
   ]
  },
  {
   "cell_type": "code",
   "execution_count": 28,
   "metadata": {},
   "outputs": [
    {
     "data": {
      "application/vnd.jupyter.widget-view+json": {
       "model_id": "ee9d2060474c46f5880f6713a2514596"
      }
     },
     "metadata": {},
     "output_type": "display_data"
    }
   ],
   "source": [
    "interactive(interactive_umap, n_neighbors=15, min_dist=0.5, n_components=3, metric='correlation')"
   ]
  }
 ],
 "metadata": {
  "kernelspec": {
   "display_name": "Python 3",
   "language": "python",
   "name": "python3"
  },
  "language_info": {
   "codemirror_mode": {
    "name": "ipython",
    "version": 3
   },
   "file_extension": ".py",
   "mimetype": "text/x-python",
   "name": "python",
   "nbconvert_exporter": "python",
   "pygments_lexer": "ipython3",
   "version": "3.6.4"
  }
 },
 "nbformat": 4,
 "nbformat_minor": 2
}
