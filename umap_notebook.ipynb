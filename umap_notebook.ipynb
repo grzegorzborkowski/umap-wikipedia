{
 "cells": [
  {
   "cell_type": "code",
   "execution_count": 1,
   "metadata": {},
   "outputs": [],
   "source": [
    "import umap\n",
    "import numpy as np\n",
    "import scipy as sp\n",
    "import networkx as nx\n",
    "from node2vec import Node2Vec\n",
    "from pprint import pprint as pprint\n",
    "import tqdm\n",
    "import matplotlib.pyplot as plt\n",
    "from ipywidgets import interact, interactive, fixed, interact_manual\n",
    "import seaborn\n",
    "import mplcursors\n",
    "import pickle\n",
    "import os\n",
    "import collections\n",
    "import codecs\n",
    "%matplotlib nbagg"
   ]
  },
  {
   "cell_type": "code",
   "execution_count": 2,
   "metadata": {},
   "outputs": [],
   "source": [
    "# Add nodes to the graph\n",
    "\n",
    "G = nx.Graph()\n",
    "\n",
    "with open('graph.desc', 'r') as fh:\n",
    "    for line_number, line in enumerate(fh):\n",
    "        if line_number>=2:\n",
    "            article_name = line.split(\"\\t\")[1][1:][:-2]\n",
    "            line_number = int(line.split(\"\\t\")[0])\n",
    "            G.add_node(line_number, article_name=article_name)\n",
    "            \n",
    "# for i in range(0, len(G.nodes)):\n",
    "#     print(G.nodes[i])"
   ]
  },
  {
   "cell_type": "code",
   "execution_count": 3,
   "metadata": {},
   "outputs": [],
   "source": [
    "# Add edges to the graph\n",
    "\n",
    "with open('graph.graph', 'r') as fh:\n",
    "    for line_number, edge in enumerate(fh):\n",
    "        src = (edge.split(\"\\t\")[0]).split(\" \")[0].rstrip()\n",
    "        dest = (edge.split(\"\\t\")[0]).split(\" \")[1].rstrip()\n",
    "        G.add_edge(src,dest)\n",
    "        # print(src, '->', dest)"
   ]
  },
  {
   "cell_type": "code",
   "execution_count": 4,
   "metadata": {},
   "outputs": [
    {
     "data": {
      "text/plain": [
       "'Soul music'"
      ]
     },
     "execution_count": 4,
     "metadata": {},
     "output_type": "execute_result"
    }
   ],
   "source": [
    "article_name = nx.get_node_attributes(G, name='article_name')\n",
    "article_name[251890]"
   ]
  },
  {
   "cell_type": "code",
   "execution_count": 5,
   "metadata": {},
   "outputs": [
    {
     "name": "stdout",
     "output_type": "stream",
     "text": [
      "('Name: \\n'\n",
      " 'Type: Graph\\n'\n",
      " 'Number of nodes: 459513\\n'\n",
      " 'Number of edges: 678216\\n'\n",
      " 'Average degree:   2.9519')\n"
     ]
    }
   ],
   "source": [
    "pprint(nx.info(G))"
   ]
  },
  {
   "cell_type": "code",
   "execution_count": 6,
   "metadata": {},
   "outputs": [],
   "source": [
    "# Get nodes with degree >= min_degree\n",
    "\n",
    "min_degree = 10\n",
    "\n",
    "nodes = [node for node, degree in G.degree() if degree >= min_degree]"
   ]
  },
  {
   "cell_type": "code",
   "execution_count": 7,
   "metadata": {},
   "outputs": [
    {
     "data": {
      "text/plain": [
       "[(0, {'article_name': 'As Crazy as It Gets'}),\n",
       " (1, {'article_name': 'Road to Yesterday (film)'}),\n",
       " (2, {'article_name': 'UK Blak'}),\n",
       " (3, {'article_name': 'Beach of the War Goddess'}),\n",
       " (4, {'article_name': 'Good Vibrations'}),\n",
       " (5, {'article_name': 'Cool Jerk'}),\n",
       " (6, {'article_name': 'Can We Still Be Friends'}),\n",
       " (7, {'article_name': 'I Saw the Light (Todd Rundgren song)'}),\n",
       " (8, {'article_name': 'La-La (Means I Love You)'}),\n",
       " (9, {'article_name': 'Bang the Drum All Day'})]"
      ]
     },
     "execution_count": 7,
     "metadata": {},
     "output_type": "execute_result"
    }
   ],
   "source": [
    "list(G.nodes(data=True))[:10]"
   ]
  },
  {
   "cell_type": "code",
   "execution_count": 8,
   "metadata": {},
   "outputs": [],
   "source": [
    "# Create a subgraph with nodes degree >= min_degree (in the G graph)\n",
    "\n",
    "subgraph_G = G.subgraph(nodes)"
   ]
  },
  {
   "cell_type": "code",
   "execution_count": 9,
   "metadata": {},
   "outputs": [
    {
     "data": {
      "text/plain": [
       "[('126187', {}),\n",
       " ('238141', {}),\n",
       " ('133100', {}),\n",
       " ('125407', {}),\n",
       " ('142483', {}),\n",
       " ('37353', {}),\n",
       " ('62506', {}),\n",
       " ('111000', {}),\n",
       " ('159709', {}),\n",
       " ('75853', {})]"
      ]
     },
     "execution_count": 9,
     "metadata": {},
     "output_type": "execute_result"
    }
   ],
   "source": [
    "list(subgraph_G.nodes(data=True))[:10]"
   ]
  },
  {
   "cell_type": "code",
   "execution_count": 10,
   "metadata": {},
   "outputs": [
    {
     "name": "stdout",
     "output_type": "stream",
     "text": [
      "('Name: \\n'\n",
      " 'Type: SubGraph\\n'\n",
      " 'Number of nodes: 33733\\n'\n",
      " 'Number of edges: 263038\\n'\n",
      " 'Average degree:  15.5953')\n"
     ]
    }
   ],
   "source": [
    "pprint(nx.info(subgraph_G))"
   ]
  },
  {
   "cell_type": "code",
   "execution_count": 11,
   "metadata": {},
   "outputs": [
    {
     "data": {
      "text/plain": [
       "'Soul music'"
      ]
     },
     "execution_count": 11,
     "metadata": {},
     "output_type": "execute_result"
    }
   ],
   "source": [
    "article_name = nx.get_node_attributes(G, name='article_name')\n",
    "article_name[251890]"
   ]
  },
  {
   "cell_type": "code",
   "execution_count": 12,
   "metadata": {},
   "outputs": [
    {
     "data": {
      "text/plain": [
       "DegreeView({'8': 9})"
      ]
     },
     "execution_count": 12,
     "metadata": {},
     "output_type": "execute_result"
    }
   ],
   "source": [
    "subgraph_G.degree(\"67987\")"
   ]
  },
  {
   "cell_type": "code",
   "execution_count": 15,
   "metadata": {},
   "outputs": [
    {
     "data": {
      "text/plain": [
       "True"
      ]
     },
     "execution_count": 15,
     "metadata": {},
     "output_type": "execute_result"
    }
   ],
   "source": [
    "# Extract largest common component\n",
    "\n",
    "connected_components = nx.connected_components(subgraph_G)\n",
    "largest_cc_nodes = max(connected_components, key=len)\n",
    "largest_cc_graph = subgraph_G.subgraph(largest_cc_nodes)\n",
    "nx.is_connected(largest_cc_graph)"
   ]
  },
  {
   "cell_type": "code",
   "execution_count": 16,
   "metadata": {},
   "outputs": [
    {
     "name": "stdout",
     "output_type": "stream",
     "text": [
      "('Name: \\n'\n",
      " 'Type: SubGraph\\n'\n",
      " 'Number of nodes: 33327\\n'\n",
      " 'Number of edges: 262991\\n'\n",
      " 'Average degree:  15.7825')\n"
     ]
    }
   ],
   "source": [
    "pprint(nx.info(largest_cc_graph))"
   ]
  },
  {
   "cell_type": "code",
   "execution_count": null,
   "metadata": {},
   "outputs": [],
   "source": [
    "# with open('graph-largest-common-cc.graph', 'w') as f:\n",
    "#     for edge in largest_cc_graph.edges:\n",
    "#         src = edge[0]\n",
    "#         dest = edge[1]\n",
    "#         f.write(src + ' ' + dest + '\\n')\n"
   ]
  },
  {
   "cell_type": "code",
   "execution_count": 15,
   "metadata": {},
   "outputs": [],
   "source": [
    "# Count betweenness\n",
    "\n",
    "# largest_cc_graph_betweenness = nx.betweenness_centrality(largest_cc_graph, k=10000)"
   ]
  },
  {
   "cell_type": "code",
   "execution_count": 16,
   "metadata": {},
   "outputs": [],
   "source": [
    "# print({k: largest_cc_graph_betweenness[k] for k in list(largest_cc_graph_betweenness)[:10]})"
   ]
  },
  {
   "cell_type": "code",
   "execution_count": 17,
   "metadata": {},
   "outputs": [],
   "source": [
    "# files = os.listdir(\".\")\n",
    "# with open(\"graph-largest-cc-betweenness-10000.desc\", \"w\") as file:\n",
    "#     for node in largest_cc_graph_betweenness:\n",
    "#         file.write(str(node) + ' ' + str(largest_cc_graph_betweenness[node]) + ' \"'+article_name[int(node)]+'\"\\n')"
   ]
  },
  {
   "cell_type": "code",
   "execution_count": 17,
   "metadata": {},
   "outputs": [],
   "source": [
    "# Degree chart\n",
    "\n",
    "degrees = [largest_cc_graph.degree(node) for node in largest_cc_graph]\n",
    "degrees_frequency = {x:degrees.count(x) for x in degrees}"
   ]
  },
  {
   "cell_type": "code",
   "execution_count": 18,
   "metadata": {},
   "outputs": [
    {
     "data": {
      "text/plain": [
       "{1: 379,\n",
       " 2: 604,\n",
       " 3: 737,\n",
       " 4: 1022,\n",
       " 5: 1333,\n",
       " 6: 1735,\n",
       " 7: 2112,\n",
       " 8: 2482,\n",
       " 9: 2697,\n",
       " 10: 2507,\n",
       " 11: 2143,\n",
       " 12: 1771,\n",
       " 13: 1456,\n",
       " 14: 1286,\n",
       " 15: 1115,\n",
       " 16: 996,\n",
       " 17: 855,\n",
       " 18: 764,\n",
       " 19: 664,\n",
       " 20: 590,\n",
       " 21: 458,\n",
       " 22: 423,\n",
       " 23: 371,\n",
       " 24: 338,\n",
       " 25: 353,\n",
       " 26: 281,\n",
       " 27: 269,\n",
       " 28: 212,\n",
       " 29: 227,\n",
       " 30: 186,\n",
       " 31: 173,\n",
       " 32: 148,\n",
       " 33: 153,\n",
       " 34: 142,\n",
       " 35: 135,\n",
       " 36: 117,\n",
       " 37: 118,\n",
       " 38: 88,\n",
       " 39: 82,\n",
       " 40: 81,\n",
       " 41: 83,\n",
       " 42: 86,\n",
       " 43: 56,\n",
       " 44: 84,\n",
       " 45: 71,\n",
       " 46: 63,\n",
       " 47: 66,\n",
       " 48: 54,\n",
       " 49: 60,\n",
       " 50: 58,\n",
       " 51: 45,\n",
       " 52: 41,\n",
       " 53: 42,\n",
       " 54: 35,\n",
       " 55: 38,\n",
       " 56: 33,\n",
       " 57: 30,\n",
       " 58: 38,\n",
       " 59: 23,\n",
       " 60: 25,\n",
       " 61: 28,\n",
       " 62: 26,\n",
       " 63: 22,\n",
       " 64: 30,\n",
       " 65: 18,\n",
       " 66: 25,\n",
       " 67: 19,\n",
       " 68: 25,\n",
       " 69: 18,\n",
       " 70: 18,\n",
       " 71: 23,\n",
       " 72: 15,\n",
       " 73: 16,\n",
       " 74: 15,\n",
       " 75: 17,\n",
       " 76: 9,\n",
       " 77: 8,\n",
       " 78: 12,\n",
       " 79: 5,\n",
       " 80: 15,\n",
       " 81: 9,\n",
       " 82: 4,\n",
       " 83: 10,\n",
       " 84: 7,\n",
       " 85: 7,\n",
       " 86: 12,\n",
       " 87: 8,\n",
       " 88: 7,\n",
       " 89: 8,\n",
       " 90: 5,\n",
       " 91: 10,\n",
       " 92: 5,\n",
       " 93: 2,\n",
       " 94: 4,\n",
       " 95: 7,\n",
       " 96: 8,\n",
       " 97: 7,\n",
       " 98: 2,\n",
       " 99: 7,\n",
       " 100: 6,\n",
       " 101: 3,\n",
       " 102: 6,\n",
       " 103: 4,\n",
       " 104: 3,\n",
       " 105: 6,\n",
       " 106: 6,\n",
       " 107: 2,\n",
       " 108: 2,\n",
       " 109: 2,\n",
       " 110: 5,\n",
       " 111: 3,\n",
       " 112: 3,\n",
       " 113: 1,\n",
       " 114: 2,\n",
       " 115: 3,\n",
       " 116: 1,\n",
       " 117: 3,\n",
       " 118: 2,\n",
       " 119: 1,\n",
       " 120: 2,\n",
       " 121: 2,\n",
       " 122: 2,\n",
       " 123: 3,\n",
       " 124: 1,\n",
       " 125: 1,\n",
       " 126: 1,\n",
       " 127: 3,\n",
       " 128: 3,\n",
       " 129: 1,\n",
       " 130: 3,\n",
       " 132: 1,\n",
       " 133: 1,\n",
       " 134: 2,\n",
       " 136: 2,\n",
       " 137: 1,\n",
       " 138: 1,\n",
       " 139: 1,\n",
       " 140: 4,\n",
       " 141: 2,\n",
       " 142: 2,\n",
       " 144: 1,\n",
       " 145: 2,\n",
       " 146: 1,\n",
       " 147: 2,\n",
       " 153: 2,\n",
       " 154: 1,\n",
       " 156: 2,\n",
       " 157: 1,\n",
       " 158: 2,\n",
       " 159: 2,\n",
       " 160: 1,\n",
       " 161: 1,\n",
       " 162: 3,\n",
       " 163: 1,\n",
       " 165: 2,\n",
       " 168: 2,\n",
       " 171: 2,\n",
       " 172: 1,\n",
       " 173: 1,\n",
       " 174: 1,\n",
       " 175: 1,\n",
       " 176: 2,\n",
       " 181: 1,\n",
       " 182: 1,\n",
       " 183: 2,\n",
       " 184: 1,\n",
       " 186: 1,\n",
       " 188: 1,\n",
       " 189: 2,\n",
       " 192: 1,\n",
       " 194: 1,\n",
       " 196: 1,\n",
       " 197: 1,\n",
       " 199: 1,\n",
       " 203: 1,\n",
       " 206: 1,\n",
       " 212: 1,\n",
       " 213: 2,\n",
       " 222: 1,\n",
       " 224: 1,\n",
       " 230: 1,\n",
       " 239: 1,\n",
       " 240: 1,\n",
       " 242: 1,\n",
       " 254: 2,\n",
       " 258: 1,\n",
       " 278: 1,\n",
       " 285: 1,\n",
       " 293: 1,\n",
       " 298: 1,\n",
       " 307: 1,\n",
       " 325: 1,\n",
       " 326: 1,\n",
       " 337: 1,\n",
       " 344: 1,\n",
       " 371: 1,\n",
       " 391: 1,\n",
       " 394: 1,\n",
       " 400: 1,\n",
       " 451: 1,\n",
       " 458: 1,\n",
       " 468: 1,\n",
       " 469: 1,\n",
       " 521: 1,\n",
       " 545: 1,\n",
       " 565: 1,\n",
       " 589: 1,\n",
       " 598: 1,\n",
       " 603: 1,\n",
       " 626: 1,\n",
       " 642: 1,\n",
       " 658: 1,\n",
       " 661: 1,\n",
       " 709: 1,\n",
       " 712: 1,\n",
       " 754: 1,\n",
       " 803: 1,\n",
       " 819: 1,\n",
       " 981: 1,\n",
       " 1418: 1,\n",
       " 1577: 1}"
      ]
     },
     "execution_count": 18,
     "metadata": {},
     "output_type": "execute_result"
    }
   ],
   "source": [
    "degrees_frequency"
   ]
  },
  {
   "cell_type": "code",
   "execution_count": 19,
   "metadata": {},
   "outputs": [],
   "source": [
    "# Node2Vec"
   ]
  },
  {
   "cell_type": "code",
   "execution_count": null,
   "metadata": {},
   "outputs": [
    {
     "data": {
      "image/png": "[encoded data removed]",
      "text/plain": [
       "<matplotlib.figure.Figure at 0x1a40ed1128>"
      ]
     },
     "metadata": {},
     "output_type": "display_data"
    }
   ],
   "source": [
    "plt.title('Degree of nodes')\n",
    "plt.xlabel('Degree')\n",
    "plt.ylabel('Number of nodes with such a degree')\n",
    "plt.yscale('log')\n",
    "plt.plot(degrees_frequency.keys(), degrees_frequency.values(), 'ro')\n",
    "plt.show()"
   ]
  },
  {
   "cell_type": "code",
   "execution_count": null,
   "metadata": {
    "scrolled": true
   },
   "outputs": [
    {
     "name": "stderr",
     "output_type": "stream",
     "text": [
      "Computing transition probabilities:   3%|▎         | 1048/33327 [00:09<05:06, 105.42it/s]/Users/anna/anaconda3/lib/python3.6/site-packages/tqdm/_monitor.py:89: TqdmSynchronisationWarning: Set changed size during iteration (see https://github.com/tqdm/tqdm/issues/481)\n",
      "  TqdmSynchronisationWarning)\n",
      "Computing transition probabilities: 100%|██████████| 33327/33327 [04:29<00:00, 123.78it/s]\n",
      "Generating walks (CPU: 4): 100%|██████████| 62/62 [1:56:24<00:00, 110.30s/it]\n",
      "\n",
      "\n",
      "\n"
     ]
    }
   ],
   "source": [
    "nodes_count = len(largest_cc_graph.nodes)\n",
    "\n",
    "# Precompute probabilities and generate walks\n",
    "files = os.listdir(\".\")\n",
    "if \"node2vec.pickle\" in files:\n",
    "    with open(\"node2vec.pickle\", \"rb\") as file:\n",
    "        node2vec = pickle.load(file)\n",
    "else:\n",
    "    # dimensions maybe 32\n",
    "    node2vec = Node2Vec(largest_cc_graph, dimensions=32, walk_length=50, num_walks=250, p=1, q=1, \n",
    "                        #weight_key='weight',\n",
    "                 workers=4, sampling_strategy=None)"
   ]
  },
  {
   "cell_type": "code",
   "execution_count": null,
   "metadata": {},
   "outputs": [],
   "source": [
    "files = os.listdir(\".\")\n",
    "\n",
    "if \"node2vec.pickle\" not in files:\n",
    "    with open(\"node2vec.pickle\", \"wb\") as file:\n",
    "        pickle.dump(node2vec, file)"
   ]
  },
  {
   "cell_type": "code",
   "execution_count": null,
   "metadata": {},
   "outputs": [],
   "source": [
    "sorted(subgraph_G.degree, key=lambda x: x[1], reverse=True)[:10]"
   ]
  },
  {
   "cell_type": "code",
   "execution_count": null,
   "metadata": {},
   "outputs": [],
   "source": [
    "# Embed\n",
    "# model = node2vec.fit(window=10, min_count=1, batch_words=8)  # Any keywords acceptable by gensim.Word2Vec can be passed, `diemnsions` and `workers` are automatically passed (from the Node2Vec constructor)\n",
    "# print(model)"
   ]
  },
  {
   "cell_type": "code",
   "execution_count": null,
   "metadata": {},
   "outputs": [],
   "source": [
    "# Look for most similar nodes\n",
    "# print (nx.get_node_attributes(G, \"Horseland\"))\n",
    "\n",
    "# `model.wv.most_similar('55120')  # Output node names are always strings"
   ]
  },
  {
   "cell_type": "code",
   "execution_count": null,
   "metadata": {},
   "outputs": [],
   "source": [
    "# '62737' in G"
   ]
  },
  {
   "cell_type": "code",
   "execution_count": null,
   "metadata": {},
   "outputs": [],
   "source": []
  },
  {
   "cell_type": "code",
   "execution_count": null,
   "metadata": {},
   "outputs": [],
   "source": [
    "# node_vectors = model.wv\n",
    "# print(node_vectors)"
   ]
  },
  {
   "cell_type": "code",
   "execution_count": null,
   "metadata": {},
   "outputs": [],
   "source": [
    "# vector_1 = node_vectors['24982']\n",
    "# print(vector_1)"
   ]
  },
  {
   "cell_type": "code",
   "execution_count": null,
   "metadata": {},
   "outputs": [],
   "source": [
    "# Save embeddings for later use\n",
    "\n",
    "# node_vectors.save_word2vec_format(\"art-embedding.txt\")"
   ]
  },
  {
   "cell_type": "code",
   "execution_count": null,
   "metadata": {},
   "outputs": [],
   "source": [
    "# Load embeddings\n",
    "\n",
    "from gensim.models import KeyedVectors\n",
    "node_vectors_loaded = KeyedVectors.load_word2vec_format(\"art-embedding.txt\")\n",
    "wv = node_vectors_loaded.vectors"
   ]
  },
  {
   "cell_type": "code",
   "execution_count": null,
   "metadata": {},
   "outputs": [],
   "source": [
    "def interactive_umap(n_neighbors, min_dist, n_components):\n",
    "    umap_obj = umap.UMAP(n_neighbors=n_neighbors, min_dist=min_dist, n_components=n_components)\n",
    "    transformed = umap_obj.fit_transform(wv)\n",
    "    plt.figure(figsize=(7.5,7.5))\n",
    "    seaborn.regplot(x=transformed[:, 0], y=transformed[:, 1], fit_reg=False)    \n",
    "    \n",
    "    plt.show()"
   ]
  },
  {
   "cell_type": "code",
   "execution_count": null,
   "metadata": {},
   "outputs": [],
   "source": [
    "interactive(interactive_umap, n_neighbors=15, min_dist=0.5, n_components=3, metric='correlation')"
   ]
  },
  {
   "cell_type": "code",
   "execution_count": null,
   "metadata": {},
   "outputs": [],
   "source": []
  }
 ],
 "metadata": {
  "kernelspec": {
   "display_name": "Python 3",
   "language": "python",
   "name": "python3"
  },
  "language_info": {
   "codemirror_mode": {
    "name": "ipython",
    "version": 3
   },
   "file_extension": ".py",
   "mimetype": "text/x-python",
   "name": "python",
   "nbconvert_exporter": "python",
   "pygments_lexer": "ipython3",
   "version": "3.6.4"
  }
 },
 "nbformat": 4,
 "nbformat_minor": 2
}
