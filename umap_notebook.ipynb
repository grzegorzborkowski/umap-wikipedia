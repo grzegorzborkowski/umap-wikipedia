{
 "cells": [
  {
   "cell_type": "code",
   "execution_count": 1,
   "metadata": {},
   "outputs": [],
   "source": [
    "import umap\n",
    "import numpy\n",
    "import scipy as sp\n",
    "import networkx as nx\n",
    "from node2vec import Node2Vec\n",
    "from pprint import pprint as pprint\n",
    "import tqdm"
   ]
  },
  {
   "cell_type": "code",
   "execution_count": 2,
   "metadata": {},
   "outputs": [],
   "source": [
    "G = nx.DiGraph()\n",
    "\n",
    "with open('graph.desc', 'r') as fh:\n",
    "    for line_number, line in enumerate(fh):\n",
    "        if line_number>=2:\n",
    "            article_name = line.split(\"\\t\")[1][1:][:-2]\n",
    "            line_number = int(line.split(\"\\t\")[0])\n",
    "            G.add_node(line_number, article_name=article_name)\n",
    "            \n",
    "# for i in range(0, len(G.nodes)):\n",
    "#     print(G.nodes[i])"
   ]
  },
  {
   "cell_type": "code",
   "execution_count": 3,
   "metadata": {},
   "outputs": [],
   "source": [
    "with open('graph.graph', 'r') as fh:\n",
    "    for line_number, edge in enumerate(fh):\n",
    "        src = (edge.split(\"\\t\")[0]).split(\" \")[0].rstrip()\n",
    "        dest = (edge.split(\"\\t\")[0]).split(\" \")[1].rstrip()\n",
    "        G.add_edge(src,dest)\n",
    "        # print(src, '->', dest)"
   ]
  },
  {
   "cell_type": "code",
   "execution_count": 4,
   "metadata": {},
   "outputs": [
    {
     "name": "stdout",
     "output_type": "stream",
     "text": [
      "('Name: \\n'\n",
      " 'Type: DiGraph\\n'\n",
      " 'Number of nodes: 459513\\n'\n",
      " 'Number of edges: 827118\\n'\n",
      " 'Average in degree:   1.8000\\n'\n",
      " 'Average out degree:   1.8000')\n"
     ]
    }
   ],
   "source": [
    "pprint(nx.info(G))"
   ]
  },
  {
   "cell_type": "code",
   "execution_count": 5,
   "metadata": {},
   "outputs": [],
   "source": [
    "min_degree = 20\n",
    "\n",
    "for n in list(G.nodes):\n",
    "   if G.in_degree(n)<min_degree:\n",
    "       G.remove_node(n)"
   ]
  },
  {
   "cell_type": "code",
   "execution_count": 6,
   "metadata": {},
   "outputs": [
    {
     "name": "stdout",
     "output_type": "stream",
     "text": [
      "('Name: \\n'\n",
      " 'Type: DiGraph\\n'\n",
      " 'Number of nodes: 855\\n'\n",
      " 'Number of edges: 3955\\n'\n",
      " 'Average in degree:   4.6257\\n'\n",
      " 'Average out degree:   4.6257')\n"
     ]
    }
   ],
   "source": [
    "pprint(nx.info(G))"
   ]
  },
  {
   "cell_type": "code",
   "execution_count": 7,
   "metadata": {},
   "outputs": [
    {
     "name": "stderr",
     "output_type": "stream",
     "text": [
      "Computing transition probabilities: 100%|██████████| 855/855 [00:00<00:00, 4190.31it/s]\n",
      "0it [00:00, ?it/s]CPU: 1):   0%|          | 0/1 [00:00<?, ?it/s]\n",
      "Generating walks (CPU: 1): 100%|██████████| 1/1 [00:00<00:00,  7.61it/s]\n",
      "\n",
      "0it [00:00, ?it/s]CPU: 3): : 0it [00:00, ?it/s]\n",
      "0it [00:00, ?it/s]CPU: 4): : 0it [00:00, ?it/s]\n",
      "0it [00:00, ?it/s]CPU: 5): : 0it [00:00, ?it/s]\n",
      "0it [00:00, ?it/s]CPU: 6): : 0it [00:00, ?it/s]\n",
      "Generating walks (CPU: 8): : 0it [00:00, ?it/s]\n"
     ]
    }
   ],
   "source": [
    "nodes_count = len(G.nodes)\n",
    "\n",
    "# Precompute probabilities and generate walks\n",
    "node2vec = Node2Vec(G, dimensions=100, walk_length=50, num_walks=500, p=1, q=1, weight_key='weight',\n",
    "                 workers=8, sampling_strategy=None)"
   ]
  },
  {
   "cell_type": "code",
   "execution_count": 8,
   "metadata": {},
   "outputs": [
    {
     "data": {
      "text/plain": [
       "[('251890', 78),\n",
       " ('36497', 77),\n",
       " ('251899', 61),\n",
       " ('228840', 56),\n",
       " ('227969', 53),\n",
       " ('79025', 52),\n",
       " ('128596', 51),\n",
       " ('246320', 51),\n",
       " ('122206', 48),\n",
       " ('55120', 48)]"
      ]
     },
     "execution_count": 8,
     "metadata": {},
     "output_type": "execute_result"
    }
   ],
   "source": [
    "sorted(G.degree, key=lambda x: x[1], reverse=True)[:10]"
   ]
  },
  {
   "cell_type": "code",
   "execution_count": 9,
   "metadata": {},
   "outputs": [
    {
     "name": "stdout",
     "output_type": "stream",
     "text": [
      "[['54519', '86528', '244824', '103283', '244824']]\n"
     ]
    }
   ],
   "source": [
    "print(node2vec.walks[:1])"
   ]
  },
  {
   "cell_type": "code",
   "execution_count": null,
   "metadata": {},
   "outputs": [],
   "source": []
  },
  {
   "cell_type": "code",
   "execution_count": 10,
   "metadata": {},
   "outputs": [
    {
     "name": "stdout",
     "output_type": "stream",
     "text": [
      "Word2Vec(vocab=855, size=10, alpha=0.025)\n"
     ]
    }
   ],
   "source": [
    "# Embed\n",
    "model = node2vec.fit(window=10, min_count=1, batch_words=8)  # Any keywords acceptable by gensim.Word2Vec can be passed, `diemnsions` and `workers` are automatically passed (from the Node2Vec constructor)\n",
    "print(model)"
   ]
  },
  {
   "cell_type": "code",
   "execution_count": 11,
   "metadata": {},
   "outputs": [
    {
     "data": {
      "text/plain": [
       "[('259546', 0.8220720887184143),\n",
       " ('124385', 0.8178898096084595),\n",
       " ('90633', 0.8156998157501221),\n",
       " ('191832', 0.807579755783081),\n",
       " ('57724', 0.7341687083244324),\n",
       " ('29690', 0.7323005199432373),\n",
       " ('95195', 0.7192438840866089),\n",
       " ('48569', 0.7169404625892639),\n",
       " ('13839', 0.711948037147522),\n",
       " ('95196', 0.7053947448730469)]"
      ]
     },
     "execution_count": 11,
     "metadata": {},
     "output_type": "execute_result"
    }
   ],
   "source": [
    "# Look for most similar nodes\n",
    "# print (nx.get_node_attributes(G, \"Horseland\"))\n",
    "\n",
    "model.wv.most_similar('55120')  # Output node names are always strings"
   ]
  },
  {
   "cell_type": "code",
   "execution_count": 12,
   "metadata": {},
   "outputs": [
    {
     "data": {
      "text/plain": [
       "False"
      ]
     },
     "execution_count": 12,
     "metadata": {},
     "output_type": "execute_result"
    }
   ],
   "source": [
    "'62737' in G"
   ]
  },
  {
   "cell_type": "code",
   "execution_count": null,
   "metadata": {},
   "outputs": [],
   "source": []
  },
  {
   "cell_type": "code",
   "execution_count": 13,
   "metadata": {},
   "outputs": [
    {
     "name": "stdout",
     "output_type": "stream",
     "text": [
      "<gensim.models.keyedvectors.Word2VecKeyedVectors object at 0x1a47651390>\n"
     ]
    }
   ],
   "source": [
    "node_vectors = model.wv\n",
    "print(node_vectors)"
   ]
  },
  {
   "cell_type": "code",
   "execution_count": 14,
   "metadata": {},
   "outputs": [
    {
     "name": "stdout",
     "output_type": "stream",
     "text": [
      "[-0.03611172  0.00370547 -0.02995202  0.01948346  0.00898747  0.03227345\n",
      " -0.03029198  0.03423879  0.03030616  0.03784813]\n"
     ]
    }
   ],
   "source": [
    "vector_1 = node_vectors['24982']\n",
    "print(vector_1)"
   ]
  },
  {
   "cell_type": "code",
   "execution_count": 15,
   "metadata": {},
   "outputs": [],
   "source": [
    "# Save embeddings for later use\n",
    "\n",
    "node_vectors.save_word2vec_format(\"art-embedding.txt\")"
   ]
  },
  {
   "cell_type": "code",
   "execution_count": 16,
   "metadata": {},
   "outputs": [],
   "source": [
    "# Load embeddings\n",
    "\n",
    "from gensim.models import KeyedVectors\n",
    "node_vectors_loaded = KeyedVectors.load_word2vec_format(\"art-embedding.txt\")"
   ]
  },
  {
   "cell_type": "code",
   "execution_count": 17,
   "metadata": {},
   "outputs": [
    {
     "name": "stdout",
     "output_type": "stream",
     "text": [
      "<gensim.models.keyedvectors.Word2VecKeyedVectors object at 0x1a2acc9be0>\n"
     ]
    }
   ],
   "source": [
    "print(node_vectors_loaded)"
   ]
  },
  {
   "cell_type": "code",
   "execution_count": 19,
   "metadata": {},
   "outputs": [
    {
     "name": "stdout",
     "output_type": "stream",
     "text": [
      "[-0.04512537  0.00796047 -0.01502777  0.02045568  0.0051362   0.03891236\n",
      "  0.04613927 -0.02415276 -0.00679287 -0.04590474]\n"
     ]
    }
   ],
   "source": [
    "vector_2 = node_vectors_loaded['62737']\n",
    "print(vector_2)"
   ]
  },
  {
   "cell_type": "code",
   "execution_count": 20,
   "metadata": {},
   "outputs": [
    {
     "data": {
      "text/plain": [
       "[('259546', 0.8220720887184143),\n",
       " ('124385', 0.8178898096084595),\n",
       " ('90633', 0.8156998157501221),\n",
       " ('191832', 0.807579755783081),\n",
       " ('57724', 0.7341687083244324),\n",
       " ('29690', 0.7323005199432373),\n",
       " ('95195', 0.7192438840866089),\n",
       " ('48569', 0.7169404625892639),\n",
       " ('13839', 0.711948037147522),\n",
       " ('95196', 0.7053947448730469)]"
      ]
     },
     "execution_count": 20,
     "metadata": {},
     "output_type": "execute_result"
    }
   ],
   "source": [
    "node_vectors_loaded.most_similar('62737') "
   ]
  },
  {
   "cell_type": "code",
   "execution_count": 21,
   "metadata": {},
   "outputs": [
    {
     "data": {
      "text/plain": [
       "True"
      ]
     },
     "execution_count": 21,
     "metadata": {},
     "output_type": "execute_result"
    }
   ],
   "source": [
    "'259546' in G"
   ]
  },
  {
   "cell_type": "code",
   "execution_count": null,
   "metadata": {},
   "outputs": [],
   "source": []
  }
 ],
 "metadata": {
  "kernelspec": {
   "display_name": "Python 3",
   "language": "python",
   "name": "python3"
  }
 },
 "nbformat": 4,
 "nbformat_minor": 2
}
