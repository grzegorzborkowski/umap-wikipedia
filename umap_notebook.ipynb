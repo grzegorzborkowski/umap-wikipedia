{
 "cells": [
  {
   "cell_type": "code",
   "execution_count": 49,
   "metadata": {
    "collapsed": true
   },
   "outputs": [],
   "source": [
    "import umap\n",
    "import numpy\n",
    "import scipy as sp\n",
    "import networkx as nx\n",
    "from pprint import pprint as pprint"
   ]
  },
  {
   "cell_type": "code",
   "execution_count": 106,
   "metadata": {},
   "outputs": [
    {
     "name": "stdout",
     "output_type": "stream",
     "text": [
      "NodeView((1, 2, 3, 4, 5, 6, 7, 8, 9, 10, 11, 12, 13, 14, 15, 16, 17, 18, 19, 20))\n"
     ]
    }
   ],
   "source": [
    "G = nx.DiGraph()\n",
    "\n",
    "idx = 20\n",
    "with open('graph.desc', 'r') as fh:\n",
    "    for line_number, line in enumerate(fh):\n",
    "        if idx>0 and line_number>2:\n",
    "            article_name = line.split(\"\\t\")[1][1:][:-2]\n",
    "            line_number = int(line.split(\"\\t\")[0])\n",
    "            G.add_node(line_number, article_name=article_name)\n",
    "            idx=idx-1\n",
    "print (G.nodes)\n"
   ]
  },
  {
   "cell_type": "code",
   "execution_count": 107,
   "metadata": {},
   "outputs": [
    {
     "name": "stdout",
     "output_type": "stream",
     "text": [
      "('Name: \\n'\n",
      " 'Type: DiGraph\\n'\n",
      " 'Number of nodes: 20\\n'\n",
      " 'Number of edges: 0\\n'\n",
      " 'Average in degree:   0.0000\\n'\n",
      " 'Average out degree:   0.0000')\n"
     ]
    }
   ],
   "source": [
    "pprint(nx.info(G))"
   ]
  }
 ],
 "metadata": {
  "kernelspec": {
   "display_name": "Python 3",
   "language": "python",
   "name": "python3"
  },
  "language_info": {
   "codemirror_mode": {
    "name": "ipython",
    "version": 3
   },
   "file_extension": ".py",
   "mimetype": "text/x-python",
   "name": "python",
   "nbconvert_exporter": "python",
   "pygments_lexer": "ipython3",
   "version": "3.6.3"
  }
 },
 "nbformat": 4,
 "nbformat_minor": 2
}
