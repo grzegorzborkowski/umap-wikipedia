{
 "cells": [
  {
   "cell_type": "code",
   "execution_count": 1,
   "metadata": {},
   "outputs": [],
   "source": [
    "import umap\n",
    "import numpy\n",
    "import scipy as sp\n",
    "import networkx as nx\n",
    "from node2vec import Node2Vec\n",
    "from pprint import pprint as pprint\n",
    "import tqdm"
   ]
  },
  {
   "cell_type": "code",
   "execution_count": null,
   "metadata": {},
   "outputs": [],
   "source": []
  },
  {
   "cell_type": "code",
   "execution_count": 2,
   "metadata": {},
   "outputs": [],
   "source": [
    "G = nx.DiGraph()\n",
    "\n",
    "with open('graph.desc', 'r') as fh:\n",
    "    for line_number, line in enumerate(fh):\n",
    "        if line_number>=2:\n",
    "            article_name = line.split(\"\\t\")[1][1:][:-2]\n",
    "            line_number = int(line.split(\"\\t\")[0])\n",
    "            G.add_node(line_number, article_name=article_name)\n",
    "            \n",
    "# for i in range(0, len(G.nodes)):\n",
    "#     print(G.nodes[i])"
   ]
  },
  {
   "cell_type": "code",
   "execution_count": null,
   "metadata": {},
   "outputs": [],
   "source": []
  },
  {
   "cell_type": "code",
   "execution_count": 3,
   "metadata": {},
   "outputs": [],
   "source": [
    "with open('graph.graph', 'r') as fh:\n",
    "    for line_number, edge in enumerate(fh):\n",
    "        src = (edge.split(\"\\t\")[0]).split(\" \")[0].rstrip()\n",
    "        dest = (edge.split(\"\\t\")[0]).split(\" \")[1].rstrip()\n",
    "        G.add_edge(src,dest)\n",
    "        # print(src, '->', dest)"
   ]
  },
  {
   "cell_type": "code",
   "execution_count": null,
   "metadata": {},
   "outputs": [],
   "source": []
  },
  {
   "cell_type": "code",
   "execution_count": 4,
   "metadata": {},
   "outputs": [
    {
     "name": "stdout",
     "output_type": "stream",
     "text": [
      "('Name: \\n'\n",
      " 'Type: DiGraph\\n'\n",
      " 'Number of nodes: 459513\\n'\n",
      " 'Number of edges: 827118\\n'\n",
      " 'Average in degree:   1.8000\\n'\n",
      " 'Average out degree:   1.8000')\n"
     ]
    }
   ],
   "source": [
    "pprint(nx.info(G))"
   ]
  },
  {
   "cell_type": "code",
   "execution_count": null,
   "metadata": {},
   "outputs": [],
   "source": []
  },
  {
   "cell_type": "code",
   "execution_count": 5,
   "metadata": {},
   "outputs": [],
   "source": [
    "for n in list(G.nodes):\n",
    "   if G.in_degree(n)<20:\n",
    "       G.remove_node(n)"
   ]
  },
  {
   "cell_type": "code",
   "execution_count": 6,
   "metadata": {},
   "outputs": [
    {
     "name": "stdout",
     "output_type": "stream",
     "text": [
      "('Name: \\n'\n",
      " 'Type: DiGraph\\n'\n",
      " 'Number of nodes: 4927\\n'\n",
      " 'Number of edges: 36504\\n'\n",
      " 'Average in degree:   7.4090\\n'\n",
      " 'Average out degree:   7.4090')\n"
     ]
    }
   ],
   "source": [
    "pprint(nx.info(G))"
   ]
  },
  {
   "cell_type": "code",
   "execution_count": null,
   "metadata": {},
   "outputs": [],
   "source": []
  },
  {
   "cell_type": "code",
   "execution_count": 7,
   "metadata": {},
   "outputs": [
    {
     "name": "stderr",
     "output_type": "stream",
     "text": [
      "Computing transition probabilities: 100%|██████████| 4927/4927 [00:02<00:00, 2031.04it/s]\n",
      "Generating walks (CPU: 8):   0%|          | 0/62 [00:00<?, ?it/s]/Users/anna/anaconda3/lib/python3.6/site-packages/tqdm/_monitor.py:89: TqdmSynchronisationWarning: Set changed size during iteration (see https://github.com/tqdm/tqdm/issues/481)\n",
      "  TqdmSynchronisationWarning)\n",
      "/Users/anna/anaconda3/lib/python3.6/site-packages/tqdm/_monitor.py:89: TqdmSynchronisationWarning: Set changed size during iteration (see https://github.com/tqdm/tqdm/issues/481)\n",
      "  TqdmSynchronisationWarning)\n",
      "/Users/anna/anaconda3/lib/python3.6/site-packages/tqdm/_monitor.py:89: TqdmSynchronisationWarning: Set changed size during iteration (see https://github.com/tqdm/tqdm/issues/481)\n",
      "  TqdmSynchronisationWarning)\n",
      "/Users/anna/anaconda3/lib/python3.6/site-packages/tqdm/_monitor.py:89: TqdmSynchronisationWarning: Set changed size during iteration (see https://github.com/tqdm/tqdm/issues/481)\n",
      "  TqdmSynchronisationWarning)\n",
      "Generating walks (CPU: 1):   3%|▎         | 2/63 [00:12<06:21,  6.26s/it]/Users/anna/anaconda3/lib/python3.6/site-packages/tqdm/_monitor.py:89: TqdmSynchronisationWarning: Set changed size during iteration (see https://github.com/tqdm/tqdm/issues/481)\n",
      "  TqdmSynchronisationWarning)\n",
      "Generating walks (CPU: 2):   3%|▎         | 2/63 [00:13<07:05,  6.97s/it]/Users/anna/anaconda3/lib/python3.6/site-packages/tqdm/_monitor.py:89: TqdmSynchronisationWarning: Set changed size during iteration (see https://github.com/tqdm/tqdm/issues/481)\n",
      "  TqdmSynchronisationWarning)\n",
      "Generating walks (CPU: 3):   3%|▎         | 2/63 [00:14<07:25,  7.31s/it]/Users/anna/anaconda3/lib/python3.6/site-packages/tqdm/_monitor.py:89: TqdmSynchronisationWarning: Set changed size during iteration (see https://github.com/tqdm/tqdm/issues/481)\n",
      "  TqdmSynchronisationWarning)\n",
      "Generating walks (CPU: 4):   3%|▎         | 2/63 [00:15<07:48,  7.68s/it]/Users/anna/anaconda3/lib/python3.6/site-packages/tqdm/_monitor.py:89: TqdmSynchronisationWarning: Set changed size during iteration (see https://github.com/tqdm/tqdm/issues/481)\n",
      "  TqdmSynchronisationWarning)\n",
      "Generating walks (CPU: 4): 100%|██████████| 63/63 [16:47<00:00, 14.96s/it]\n",
      "\n",
      "\n",
      "\n",
      "\n",
      "\n",
      "\n",
      "\n"
     ]
    }
   ],
   "source": [
    "nodes_count = len(G.nodes)\n",
    "\n",
    "# Precompute probabilities and generate walks\n",
    "node2vec = Node2Vec(G, dimensions=100, walk_length=50, num_walks=500, p=1, q=1, weight_key='weight',\n",
    "                 workers=8, sampling_strategy=None)"
   ]
  },
  {
   "cell_type": "code",
   "execution_count": 8,
   "metadata": {},
   "outputs": [
    {
     "data": {
      "text/plain": [
       "[('251890', 302),\n",
       " ('251899', 260),\n",
       " ('36497', 223),\n",
       " ('122206', 206),\n",
       " ('128596', 185),\n",
       " ('228840', 179),\n",
       " ('68725', 176),\n",
       " ('53144', 163),\n",
       " ('55120', 159),\n",
       " ('79025', 158)]"
      ]
     },
     "execution_count": 8,
     "metadata": {},
     "output_type": "execute_result"
    }
   ],
   "source": [
    "sorted(G.degree, key=lambda x: x[1], reverse=True)[:10]"
   ]
  },
  {
   "cell_type": "code",
   "execution_count": null,
   "metadata": {},
   "outputs": [],
   "source": []
  },
  {
   "cell_type": "code",
   "execution_count": 9,
   "metadata": {},
   "outputs": [
    {
     "name": "stdout",
     "output_type": "stream",
     "text": [
      "[['149592', '145998']]\n"
     ]
    }
   ],
   "source": [
    "print(node2vec.walks[:1])"
   ]
  },
  {
   "cell_type": "code",
   "execution_count": null,
   "metadata": {},
   "outputs": [],
   "source": []
  },
  {
   "cell_type": "code",
   "execution_count": 10,
   "metadata": {},
   "outputs": [
    {
     "name": "stdout",
     "output_type": "stream",
     "text": [
      "Word2Vec(vocab=4927, size=100, alpha=0.025)\n"
     ]
    }
   ],
   "source": [
    "# Embed\n",
    "model = node2vec.fit(window=10, min_count=1, batch_words=8)  # Any keywords acceptable by gensim.Word2Vec can be passed, `diemnsions` and `workers` are automatically passed (from the Node2Vec constructor)\n",
    "print(model)"
   ]
  },
  {
   "cell_type": "code",
   "execution_count": 11,
   "metadata": {},
   "outputs": [
    {
     "data": {
      "text/plain": [
       "[('62737', 0.6340166330337524),\n",
       " ('8584', 0.5250604748725891),\n",
       " ('62740', 0.491012841463089),\n",
       " ('2131', 0.4751129746437073),\n",
       " ('43400', 0.4646091163158417),\n",
       " ('231293', 0.46132171154022217),\n",
       " ('63512', 0.45839983224868774),\n",
       " ('13523', 0.422024667263031),\n",
       " ('246320', 0.421928733587265),\n",
       " ('79027', 0.4158029556274414)]"
      ]
     },
     "execution_count": 11,
     "metadata": {},
     "output_type": "execute_result"
    }
   ],
   "source": [
    "# Look for most similar nodes\n",
    "# print (nx.get_node_attributes(G, \"Horseland\"))\n",
    "\n",
    "model.wv.most_similar('55120')  # Output node names are always strings"
   ]
  },
  {
   "cell_type": "code",
   "execution_count": 12,
   "metadata": {},
   "outputs": [
    {
     "data": {
      "text/plain": [
       "{}"
      ]
     },
     "execution_count": 12,
     "metadata": {},
     "output_type": "execute_result"
    }
   ],
   "source": [
    "G.node['62737']"
   ]
  },
  {
   "cell_type": "code",
   "execution_count": null,
   "metadata": {},
   "outputs": [],
   "source": []
  },
  {
   "cell_type": "code",
   "execution_count": 13,
   "metadata": {},
   "outputs": [
    {
     "name": "stdout",
     "output_type": "stream",
     "text": [
      "<gensim.models.keyedvectors.Word2VecKeyedVectors object at 0x1a3c074be0>\n"
     ]
    }
   ],
   "source": [
    "node_vectors = model.wv\n",
    "print(node_vectors)"
   ]
  },
  {
   "cell_type": "code",
   "execution_count": 14,
   "metadata": {},
   "outputs": [
    {
     "name": "stdout",
     "output_type": "stream",
     "text": [
      "[ 0.8148498  -2.6389446   2.9474733   3.3352592  -2.0999053  -3.3599775\n",
      " -1.4791487  -1.7040913  -3.968327    1.4743989   5.075324    2.5635593\n",
      "  0.82248795  1.785244    0.56000215 -0.5750287  -2.074587    0.29938474\n",
      " -2.7532523   3.4682868  -4.0334725  -0.75760746  4.2015185  -3.3961043\n",
      " -1.5602596  -2.0747516  -0.6009316  -2.979457    5.849955   -5.8088856\n",
      "  6.7519     -0.85770917  3.3671327   0.58310235 -1.542631    1.5882665\n",
      " -0.08063639  4.701636   -0.778013   -6.0782914  -6.3227034   5.8850565\n",
      "  1.8910761  -3.2353685  -0.740532   -0.17759982 -6.182778    6.027771\n",
      "  9.850884    0.7536562  -2.191642   -5.49071     1.3249635  -1.9801431\n",
      "  1.5911679   5.305081   -1.2546628   4.9157577   0.8803714   8.278783\n",
      " -2.6281285  -2.6519084   0.30053893  4.2290354   1.7059455   1.7679937\n",
      " -1.3829061   0.44505718  7.844903   -7.5429816   4.781097    8.886375\n",
      " -0.9373578  -3.708006    0.44118953 -4.5547285   1.3938085   4.1830735\n",
      "  7.770332   -0.68546194  1.6505066  -1.0915666   2.161071    6.3174143\n",
      " -3.578944    3.7274995   3.0169418  -1.6456988  -2.8207464  -3.3713067\n",
      " -5.5145707  -0.08103886 -2.636266    3.8987584  -2.4242754   3.1238005\n",
      "  1.2509174  -2.430156   -1.1218728   2.0204563 ]\n"
     ]
    }
   ],
   "source": [
    "vector_2 = node_vectors['24982']\n",
    "print(vector_2)"
   ]
  },
  {
   "cell_type": "code",
   "execution_count": 15,
   "metadata": {},
   "outputs": [],
   "source": [
    "# Save embeddings for later use\n",
    "model.wv.save_word2vec_format(\"art-embedding.txt\")"
   ]
  },
  {
   "cell_type": "code",
   "execution_count": 16,
   "metadata": {},
   "outputs": [],
   "source": [
    "# model = Word2Vec.load(EMBEDDING_FILENAME)"
   ]
  },
  {
   "cell_type": "code",
   "execution_count": 17,
   "metadata": {},
   "outputs": [],
   "source": [
    "# Save model for later use\n",
    "# model.save(EMBEDDING_MODEL_FILENAME)"
   ]
  },
  {
   "cell_type": "code",
   "execution_count": 18,
   "metadata": {},
   "outputs": [],
   "source": [
    "# embed = umap.UMAP().fit_transform(node2vec)"
   ]
  }
 ],
 "metadata": {
  "kernelspec": {
   "display_name": "Python 3",
   "language": "python",
   "name": "python3"
  },
  "language_info": {
   "codemirror_mode": {
    "name": "ipython",
    "version": 3
   },
   "file_extension": ".py",
   "mimetype": "text/x-python",
   "name": "python",
   "nbconvert_exporter": "python",
   "pygments_lexer": "ipython3",
   "version": "3.6.4"
  }
 },
 "nbformat": 4,
 "nbformat_minor": 2
}
